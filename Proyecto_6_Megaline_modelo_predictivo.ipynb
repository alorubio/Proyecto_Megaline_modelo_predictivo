{
 "cells": [
  {
   "cell_type": "markdown",
   "metadata": {},
   "source": [
    "# Descripción del proyecto\n",
    "\n",
    "## Objetivo\n",
    "\n",
    "La compañía móvil Megaline no está satisfecha al ver que muchos de sus clientes utilizan planes heredados. Quieren desarrollar un modelo que pueda analizar el comportamiento de los clientes y recomendar uno de los nuevos planes de Megaline: Smart o Ultra.\n",
    "\n",
    "Desarrolla un modelo con la mayor exactitud posible. En este proyecto, el umbral de exactitud es 0.75. Usa el dataset para comprobar la exactitud."
   ]
  },
  {
   "cell_type": "code",
   "execution_count": 1,
   "metadata": {},
   "outputs": [],
   "source": [
    "#Se importan las librerías que se estarán utilizando para el proyecto\n",
    "\n",
    "import pandas as pd\n",
    "from sklearn import set_config\n",
    "from sklearn.tree import DecisionTreeClassifier\n",
    "from sklearn.model_selection import train_test_split\n",
    "from sklearn.metrics import accuracy_score\n",
    "from sklearn.ensemble import RandomForestClassifier\n",
    "from sklearn.linear_model import LogisticRegression\n",
    "from sklearn.metrics import mean_squared_error\n",
    "\n",
    "set_config(print_changed_only=False)"
   ]
  },
  {
   "cell_type": "code",
   "execution_count": 2,
   "metadata": {},
   "outputs": [
    {
     "name": "stdout",
     "output_type": "stream",
     "text": [
      "<class 'pandas.core.frame.DataFrame'>\n",
      "RangeIndex: 3214 entries, 0 to 3213\n",
      "Data columns (total 5 columns):\n",
      " #   Column    Non-Null Count  Dtype  \n",
      "---  ------    --------------  -----  \n",
      " 0   calls     3214 non-null   float64\n",
      " 1   minutes   3214 non-null   float64\n",
      " 2   messages  3214 non-null   float64\n",
      " 3   mb_used   3214 non-null   float64\n",
      " 4   is_ultra  3214 non-null   int64  \n",
      "dtypes: float64(4), int64(1)\n",
      "memory usage: 125.7 KB\n"
     ]
    }
   ],
   "source": [
    "#Se carga el dataset con el que se estará desarrollando el modelo\n",
    "\n",
    "df = pd.read_csv('/datasets/users_behavior.csv')\n",
    "\n",
    "df.info()"
   ]
  },
  {
   "cell_type": "code",
   "execution_count": 3,
   "metadata": {},
   "outputs": [
    {
     "data": {
      "text/html": [
       "<div>\n",
       "<style scoped>\n",
       "    .dataframe tbody tr th:only-of-type {\n",
       "        vertical-align: middle;\n",
       "    }\n",
       "\n",
       "    .dataframe tbody tr th {\n",
       "        vertical-align: top;\n",
       "    }\n",
       "\n",
       "    .dataframe thead th {\n",
       "        text-align: right;\n",
       "    }\n",
       "</style>\n",
       "<table border=\"1\" class=\"dataframe\">\n",
       "  <thead>\n",
       "    <tr style=\"text-align: right;\">\n",
       "      <th></th>\n",
       "      <th>calls</th>\n",
       "      <th>minutes</th>\n",
       "      <th>messages</th>\n",
       "      <th>mb_used</th>\n",
       "      <th>is_ultra</th>\n",
       "    </tr>\n",
       "  </thead>\n",
       "  <tbody>\n",
       "    <tr>\n",
       "      <th>0</th>\n",
       "      <td>40.0</td>\n",
       "      <td>311.90</td>\n",
       "      <td>83.0</td>\n",
       "      <td>19915.42</td>\n",
       "      <td>0</td>\n",
       "    </tr>\n",
       "    <tr>\n",
       "      <th>1</th>\n",
       "      <td>85.0</td>\n",
       "      <td>516.75</td>\n",
       "      <td>56.0</td>\n",
       "      <td>22696.96</td>\n",
       "      <td>0</td>\n",
       "    </tr>\n",
       "    <tr>\n",
       "      <th>2</th>\n",
       "      <td>77.0</td>\n",
       "      <td>467.66</td>\n",
       "      <td>86.0</td>\n",
       "      <td>21060.45</td>\n",
       "      <td>0</td>\n",
       "    </tr>\n",
       "    <tr>\n",
       "      <th>3</th>\n",
       "      <td>106.0</td>\n",
       "      <td>745.53</td>\n",
       "      <td>81.0</td>\n",
       "      <td>8437.39</td>\n",
       "      <td>1</td>\n",
       "    </tr>\n",
       "    <tr>\n",
       "      <th>4</th>\n",
       "      <td>66.0</td>\n",
       "      <td>418.74</td>\n",
       "      <td>1.0</td>\n",
       "      <td>14502.75</td>\n",
       "      <td>0</td>\n",
       "    </tr>\n",
       "    <tr>\n",
       "      <th>5</th>\n",
       "      <td>58.0</td>\n",
       "      <td>344.56</td>\n",
       "      <td>21.0</td>\n",
       "      <td>15823.37</td>\n",
       "      <td>0</td>\n",
       "    </tr>\n",
       "    <tr>\n",
       "      <th>6</th>\n",
       "      <td>57.0</td>\n",
       "      <td>431.64</td>\n",
       "      <td>20.0</td>\n",
       "      <td>3738.90</td>\n",
       "      <td>1</td>\n",
       "    </tr>\n",
       "    <tr>\n",
       "      <th>7</th>\n",
       "      <td>15.0</td>\n",
       "      <td>132.40</td>\n",
       "      <td>6.0</td>\n",
       "      <td>21911.60</td>\n",
       "      <td>0</td>\n",
       "    </tr>\n",
       "    <tr>\n",
       "      <th>8</th>\n",
       "      <td>7.0</td>\n",
       "      <td>43.39</td>\n",
       "      <td>3.0</td>\n",
       "      <td>2538.67</td>\n",
       "      <td>1</td>\n",
       "    </tr>\n",
       "    <tr>\n",
       "      <th>9</th>\n",
       "      <td>90.0</td>\n",
       "      <td>665.41</td>\n",
       "      <td>38.0</td>\n",
       "      <td>17358.61</td>\n",
       "      <td>0</td>\n",
       "    </tr>\n",
       "  </tbody>\n",
       "</table>\n",
       "</div>"
      ],
      "text/plain": [
       "   calls  minutes  messages   mb_used  is_ultra\n",
       "0   40.0   311.90      83.0  19915.42         0\n",
       "1   85.0   516.75      56.0  22696.96         0\n",
       "2   77.0   467.66      86.0  21060.45         0\n",
       "3  106.0   745.53      81.0   8437.39         1\n",
       "4   66.0   418.74       1.0  14502.75         0\n",
       "5   58.0   344.56      21.0  15823.37         0\n",
       "6   57.0   431.64      20.0   3738.90         1\n",
       "7   15.0   132.40       6.0  21911.60         0\n",
       "8    7.0    43.39       3.0   2538.67         1\n",
       "9   90.0   665.41      38.0  17358.61         0"
      ]
     },
     "execution_count": 3,
     "metadata": {},
     "output_type": "execute_result"
    }
   ],
   "source": [
    "#Se examina la información del dataset, para conocer la información que se tiene, y de que manera se encuentra la información\n",
    "#para saber como trabajarla\n",
    "\n",
    "df.head(10)"
   ]
  },
  {
   "cell_type": "code",
   "execution_count": 4,
   "metadata": {},
   "outputs": [],
   "source": [
    "#separar en 3 la data train_test_split\n",
    "#entrena con los datos de entrenamiento\n",
    "#nuevas caracter\n",
    "#se hacen pruebas con los datos de entrenamiento, validacion y prueba con el accuracy_score-la metrica para calificar al modelo\n",
    "#para checar la exactitud del modelo"
   ]
  },
  {
   "cell_type": "code",
   "execution_count": 5,
   "metadata": {},
   "outputs": [],
   "source": [
    "df.loc[df['is_ultra'] == 1, 'plan'] = 1\n",
    "df.loc[df['is_ultra'] == 0, 'plan'] = 0"
   ]
  },
  {
   "cell_type": "code",
   "execution_count": 6,
   "metadata": {},
   "outputs": [],
   "source": [
    "#Se segmenta la data en 3 conjuntos: entrenamiento, validación y prueba\n",
    "\n",
    "df_train, df_valid = train_test_split(df, test_size = 0.20, random_state = 12345)\n",
    "df_valid, df_test = train_test_split(df_valid, test_size = 0.50, random_state = 12345)"
   ]
  },
  {
   "cell_type": "code",
   "execution_count": 7,
   "metadata": {},
   "outputs": [
    {
     "name": "stdout",
     "output_type": "stream",
     "text": [
      "(2571, 6)\n",
      "(321, 6)\n",
      "(322, 6)\n"
     ]
    }
   ],
   "source": [
    "print(df_train.shape)\n",
    "print(df_valid.shape)\n",
    "print(df_test.shape)"
   ]
  },
  {
   "cell_type": "code",
   "execution_count": 8,
   "metadata": {},
   "outputs": [
    {
     "name": "stdout",
     "output_type": "stream",
     "text": [
      "(2571, 4)\n",
      "(2571,)\n",
      "(321, 4)\n",
      "(321,)\n",
      "(322, 4)\n",
      "(322,)\n"
     ]
    }
   ],
   "source": [
    "features_train = df_train.drop(['is_ultra', 'plan'], axis=1)\n",
    "target_train = df_train['is_ultra']\n",
    "features_valid = df_valid.drop(['is_ultra', 'plan'], axis=1)\n",
    "target_valid = df_valid['is_ultra']\n",
    "features_test = df_test.drop(['is_ultra', 'plan'], axis=1)\n",
    "target_test = df_test['is_ultra']\n",
    "\n",
    "print(features_train.shape)\n",
    "print(target_train.shape)\n",
    "print(features_valid.shape)\n",
    "print(target_valid.shape)\n",
    "print(features_test.shape)\n",
    "print(target_test.shape)"
   ]
  },
  {
   "cell_type": "markdown",
   "metadata": {},
   "source": [
    "El tamaño de los conjuntos se seleccionó asignando un porcentaje más amplio al conjunto de entrenamiento, y asignando un porcentaje más pequeño pero de igual tamaño tanto para el conjunto de validación como para el conjunto de prueba, para que con esto de como resultado una proporción de datos fuente 3:1:1."
   ]
  },
  {
   "cell_type": "markdown",
   "metadata": {},
   "source": [
    "## Calidad de diferentes modelos\n",
    "\n",
    "A continuación se va a realizar pruebas con diferentes modelos, para revisar la calidad de estos y los resultados que arroja"
   ]
  },
  {
   "cell_type": "markdown",
   "metadata": {},
   "source": [
    "### Árbol de decisión"
   ]
  },
  {
   "cell_type": "code",
   "execution_count": 9,
   "metadata": {},
   "outputs": [
    {
     "name": "stdout",
     "output_type": "stream",
     "text": [
      "DecisionTreeClassifier(ccp_alpha=0.0, class_weight=None, criterion='gini',\n",
      "                       max_depth=None, max_features=None, max_leaf_nodes=None,\n",
      "                       min_impurity_decrease=0.0, min_impurity_split=None,\n",
      "                       min_samples_leaf=1, min_samples_split=2,\n",
      "                       min_weight_fraction_leaf=0.0, random_state=None,\n",
      "                       splitter='best')\n"
     ]
    }
   ],
   "source": [
    "model = DecisionTreeClassifier()\n",
    "model.fit(features_train, target_train)\n",
    "print(model)"
   ]
  },
  {
   "cell_type": "code",
   "execution_count": 10,
   "metadata": {},
   "outputs": [
    {
     "name": "stdout",
     "output_type": "stream",
     "text": [
      "max_depth = 1 : 0.7414330218068536\n",
      "max_depth = 2 : 0.7819314641744548\n",
      "max_depth = 3 : 0.7881619937694704\n",
      "max_depth = 4 : 0.7881619937694704\n",
      "max_depth = 5 : 0.794392523364486\n",
      "max_depth = 6 : 0.7975077881619937\n",
      "max_depth = 7 : 0.7912772585669782\n",
      "max_depth = 8 : 0.7850467289719626\n"
     ]
    }
   ],
   "source": [
    "for depth in range(1, 9):\n",
    "        model = DecisionTreeClassifier(random_state=12345, max_depth=depth)\n",
    "        model.fit(features_train, target_train)\n",
    "    \n",
    "        predictions_valid = model.predict(features_valid)\n",
    "\n",
    "        print(\"max_depth =\", depth, \": \", end='')\n",
    "        print(accuracy_score(target_valid, predictions_valid))"
   ]
  },
  {
   "cell_type": "markdown",
   "metadata": {},
   "source": [
    "Al realizar la prueba con el modelo de arbol de decisión, se asignó en primera instancia hiperparámetros del 1 al 6, en segunda instancia se asignaron hiperparámetros del 1 al 9, para revisar los resultados que arrojaba conforme los hiperparámetros fueran aumentando, lo que nos arrojó fue que, conforme incrementaba el max_depth, iba decreciendo el resultado de nuevo.\n",
    "\n",
    "Aquí nos arroja que el mejor resultado es la profundidad 6 dando un accuracy_score de .0797577, que dicho accuracy fue el mejor resultados de todas las pruebas y modelos que se hicieron, por lo que nos quedaríamos con este modelo el cual nos arrojó mayor exactitud."
   ]
  },
  {
   "cell_type": "markdown",
   "metadata": {},
   "source": [
    "### Bosque aleatorio"
   ]
  },
  {
   "cell_type": "code",
   "execution_count": 11,
   "metadata": {},
   "outputs": [
    {
     "name": "stdout",
     "output_type": "stream",
     "text": [
      "La exactitud del mejor modelo en el conjunto de validación (n_estimators = 7): 0.7912772585669782\n"
     ]
    }
   ],
   "source": [
    "best_score = 0\n",
    "best_est = 0\n",
    "for est in range(1, 11): # selecciona el rango del hiperparámetro\n",
    "    model = RandomForestClassifier(random_state=54321, n_estimators=est) # configura el número de árboles\n",
    "    model.fit(features_train, target_train) # entrena el modelo en el conjunto de entrenamiento\n",
    "    score = model.score(features_valid, target_valid) # calcula la puntuación de accuracy en el conjunto de validación\n",
    "    if score > best_score:\n",
    "        best_score = score # guarda la mejor puntuación de accuracy en el conjunto de validación\n",
    "        best_est = est # guarda el número de estimadores que corresponden a la mejor puntuación de exactitud\n",
    "\n",
    "print(\"La exactitud del mejor modelo en el conjunto de validación (n_estimators = {}): {}\".format(best_est, best_score))"
   ]
  },
  {
   "cell_type": "markdown",
   "metadata": {},
   "source": [
    "Con el modelo de bosque aleatorio, podemos observar que su exactitud también es bastante aceptable, ya que su accuracy es de las más altas y que tiene más exactitud, sin embargo, no fue lo suficientemente alta como en el caso del modelo de arbol de decisión, que obtuvo mejores resultados y exactitud."
   ]
  },
  {
   "cell_type": "markdown",
   "metadata": {},
   "source": [
    "### Regresión logística"
   ]
  },
  {
   "cell_type": "code",
   "execution_count": 12,
   "metadata": {},
   "outputs": [
    {
     "name": "stdout",
     "output_type": "stream",
     "text": [
      "Accuracy del modelo de regresión logística en el conjunto de entrenamiento: 0.7016725009723843\n",
      "Accuracy del modelo de regresión logística en el conjunto de validación: 0.67601246105919\n",
      "Accuracy del modelo de regresión logística en el conjunto de prueba: 0.7298136645962733\n"
     ]
    }
   ],
   "source": [
    "model = LogisticRegression(random_state=54321, solver='liblinear')\n",
    "model.fit(features_train, target_train) # entrena el modelo en el conjunto de entrenamiento\n",
    "score_train = model.score(features_train,target_train) # calcula la puntuación de accuracy en el conjunto de entrenamiento\n",
    "score_valid = model.score(features_valid, target_valid) # calcula la puntuación de accuracy en el conjunto de validación\n",
    "score_test = model.score(features_test, target_test) # calcula la puntuación de accuracy en el conjunto de prueba\n",
    "\n",
    "print(\"Accuracy del modelo de regresión logística en el conjunto de entrenamiento:\", score_train)\n",
    "print(\"Accuracy del modelo de regresión logística en el conjunto de validación:\", score_valid)\n",
    "print(\"Accuracy del modelo de regresión logística en el conjunto de prueba:\", score_test)"
   ]
  },
  {
   "cell_type": "markdown",
   "metadata": {},
   "source": [
    "En el caso del modelo de regresión logística, nos arroja resultados bastante bajos, resultados que no llegan al umbral de exactitud que se pide en el proyecto, por lo que este modelo no es el ideal para nuestro proyecto"
   ]
  },
  {
   "cell_type": "code",
   "execution_count": 13,
   "metadata": {},
   "outputs": [
    {
     "name": "stdout",
     "output_type": "stream",
     "text": [
      "0.5691990328003114\n"
     ]
    }
   ],
   "source": [
    "predictions_valid = model.predict(features_valid)\n",
    "result = mean_squared_error(target_valid, predictions_valid) ** 0.5\n",
    "print(result)"
   ]
  },
  {
   "cell_type": "markdown",
   "metadata": {},
   "source": [
    "## Pruebas de cordura"
   ]
  },
  {
   "cell_type": "code",
   "execution_count": 14,
   "metadata": {},
   "outputs": [
    {
     "name": "stdout",
     "output_type": "stream",
     "text": [
      "0.6931155192532089\n",
      "0.6791277258566978\n",
      "0.7111801242236024\n"
     ]
    }
   ],
   "source": [
    "#Prueba de cordura con resultado de \"0\"\n",
    "\n",
    "predictions = pd.Series(0, index = target_train.index)\n",
    "print(accuracy_score(target_train, predictions))\n",
    "\n",
    "predictions2 = pd.Series(0, index = target_valid.index)\n",
    "print(accuracy_score(target_valid, predictions2))\n",
    "\n",
    "predictions3 = pd.Series(0, index = target_test.index)\n",
    "print(accuracy_score(target_test, predictions3))"
   ]
  },
  {
   "cell_type": "code",
   "execution_count": 15,
   "metadata": {},
   "outputs": [
    {
     "name": "stdout",
     "output_type": "stream",
     "text": [
      "0.30688448074679114\n",
      "0.32087227414330216\n",
      "0.2888198757763975\n"
     ]
    }
   ],
   "source": [
    "#Prueba de cordura con resultado de \"1\"\n",
    "\n",
    "predictions = pd.Series(1, index = target_train.index)\n",
    "print(accuracy_score(target_train, predictions))\n",
    "\n",
    "predictions2 = pd.Series(1, index = target_valid.index)\n",
    "print(accuracy_score(target_valid, predictions2))\n",
    "\n",
    "predictions3 = pd.Series(1, index = target_test.index)\n",
    "print(accuracy_score(target_test, predictions3))"
   ]
  },
  {
   "cell_type": "markdown",
   "metadata": {},
   "source": [
    "Al realizar las pruebas de cordura con dos opciones de resultados en los que el modelo no estaba entrenado, tanto que todos dieran \"0\", como otra prueba en la que todos dieran \"1\", para revisar los resultados arrojados y verificar la funcionalidad del modelo, lo cual nos muestra que los resultados fueron realmente bajos, lo que nos muestra que el modelo funciona como se esperaba."
   ]
  },
  {
   "cell_type": "markdown",
   "metadata": {},
   "source": [
    "## Conclusión"
   ]
  },
  {
   "cell_type": "markdown",
   "metadata": {},
   "source": [
    "Como conclusión podemos ver que al realizar pruebas en los diferentes modelos de entrenamiento nos pudimos dar cuenta cual es la mejor opción, y los resultados fueron bastante similares al umbral que se tenía como objetivo, sin embargo, es bueno verificar cual es la mejor opción de modelo, para obtener los resultados deseados, así como también depende del objetivo que se desee alcanzar, puede variar el modelo, en este caso, para este proyecto, pudimos verificar que el modelo más ideal fue el Árbol de decisión que nos arrojó un accuracy con el mejor resultado y con más exactitud.\n",
    "\n",
    "También vemos la importancia de seleccionar los hiperparámetros correctos, ya que en esta ocasión se hizo una prueba dos veces, aplicando dos rangos de hiperparámetros diferentes, para ver los resultados arrojados, y seleccionar el que mejor accuracy tenga.\n",
    "\n",
    "Por otro lado, y por último no se puede dejar atrás las pruebas de cordura, que son my importantes para verificar la correcta funcionalidad del modelo y así estar aún más seguros de los resultados y de seleccionar el modelo correcto para llegar al objetivo que se desea."
   ]
  }
 ],
 "metadata": {
  "ExecuteTimeLog": [
   {
    "duration": 329,
    "start_time": "2025-01-21T18:21:18.689Z"
   },
   {
    "duration": 16,
    "start_time": "2025-01-21T18:21:35.674Z"
   },
   {
    "duration": 15,
    "start_time": "2025-01-21T18:21:52.293Z"
   },
   {
    "duration": 9,
    "start_time": "2025-01-21T18:32:00.731Z"
   },
   {
    "duration": 7,
    "start_time": "2025-01-21T19:11:53.580Z"
   },
   {
    "duration": 14,
    "start_time": "2025-01-21T19:12:29.249Z"
   },
   {
    "duration": 7,
    "start_time": "2025-01-21T19:15:16.269Z"
   },
   {
    "duration": 8,
    "start_time": "2025-01-21T19:15:41.303Z"
   },
   {
    "duration": 6,
    "start_time": "2025-01-21T19:16:31.238Z"
   },
   {
    "duration": 3,
    "start_time": "2025-01-21T19:17:30.195Z"
   },
   {
    "duration": 528,
    "start_time": "2025-01-21T19:17:56.719Z"
   },
   {
    "duration": 761,
    "start_time": "2025-01-21T21:46:30.202Z"
   },
   {
    "duration": 20,
    "start_time": "2025-01-21T21:46:30.966Z"
   },
   {
    "duration": 13,
    "start_time": "2025-01-21T21:46:30.987Z"
   },
   {
    "duration": 7,
    "start_time": "2025-01-21T21:46:31.002Z"
   },
   {
    "duration": 3,
    "start_time": "2025-01-21T21:47:31.429Z"
   },
   {
    "duration": 22,
    "start_time": "2025-01-21T21:47:40.289Z"
   },
   {
    "duration": 169,
    "start_time": "2025-01-22T16:39:50.315Z"
   },
   {
    "duration": 834,
    "start_time": "2025-01-22T16:40:01.439Z"
   },
   {
    "duration": 19,
    "start_time": "2025-01-22T16:40:02.275Z"
   },
   {
    "duration": 13,
    "start_time": "2025-01-22T16:40:02.295Z"
   },
   {
    "duration": 7,
    "start_time": "2025-01-22T16:40:02.311Z"
   },
   {
    "duration": 26,
    "start_time": "2025-01-22T16:40:02.320Z"
   },
   {
    "duration": 6,
    "start_time": "2025-01-22T16:40:02.348Z"
   },
   {
    "duration": 5,
    "start_time": "2025-01-22T16:55:49.050Z"
   },
   {
    "duration": 793,
    "start_time": "2025-01-22T16:56:20.978Z"
   },
   {
    "duration": 18,
    "start_time": "2025-01-22T16:56:21.774Z"
   },
   {
    "duration": 14,
    "start_time": "2025-01-22T16:56:21.794Z"
   },
   {
    "duration": 21,
    "start_time": "2025-01-22T16:56:21.811Z"
   },
   {
    "duration": 4,
    "start_time": "2025-01-22T16:56:21.834Z"
   },
   {
    "duration": 0,
    "start_time": "2025-01-22T16:56:21.840Z"
   },
   {
    "duration": 0,
    "start_time": "2025-01-22T16:56:21.842Z"
   },
   {
    "duration": 0,
    "start_time": "2025-01-22T16:56:21.843Z"
   },
   {
    "duration": 0,
    "start_time": "2025-01-22T16:56:21.845Z"
   },
   {
    "duration": 3,
    "start_time": "2025-01-22T16:58:00.841Z"
   },
   {
    "duration": 226,
    "start_time": "2025-01-22T16:58:06.365Z"
   },
   {
    "duration": 14,
    "start_time": "2025-01-22T16:58:19.318Z"
   },
   {
    "duration": 4,
    "start_time": "2025-01-22T16:59:07.890Z"
   },
   {
    "duration": 5,
    "start_time": "2025-01-22T17:01:11.780Z"
   },
   {
    "duration": 3,
    "start_time": "2025-01-22T17:01:45.727Z"
   },
   {
    "duration": 6,
    "start_time": "2025-01-22T17:15:40.127Z"
   },
   {
    "duration": 3,
    "start_time": "2025-01-22T17:15:44.454Z"
   },
   {
    "duration": 4,
    "start_time": "2025-01-22T17:16:02.921Z"
   },
   {
    "duration": 3,
    "start_time": "2025-01-22T17:16:05.021Z"
   },
   {
    "duration": 7,
    "start_time": "2025-01-22T17:16:16.560Z"
   },
   {
    "duration": 3,
    "start_time": "2025-01-22T17:16:18.458Z"
   },
   {
    "duration": 12,
    "start_time": "2025-01-22T17:16:23.866Z"
   },
   {
    "duration": 827,
    "start_time": "2025-01-22T17:16:34.031Z"
   },
   {
    "duration": 18,
    "start_time": "2025-01-22T17:16:34.860Z"
   },
   {
    "duration": 14,
    "start_time": "2025-01-22T17:16:34.880Z"
   },
   {
    "duration": 3,
    "start_time": "2025-01-22T17:16:34.895Z"
   },
   {
    "duration": 6,
    "start_time": "2025-01-22T17:16:34.900Z"
   },
   {
    "duration": 23,
    "start_time": "2025-01-22T17:16:34.908Z"
   },
   {
    "duration": 7,
    "start_time": "2025-01-22T17:16:34.934Z"
   },
   {
    "duration": 22,
    "start_time": "2025-01-22T17:16:34.943Z"
   },
   {
    "duration": 6,
    "start_time": "2025-01-22T17:16:34.968Z"
   },
   {
    "duration": 2,
    "start_time": "2025-01-22T17:16:34.976Z"
   },
   {
    "duration": 254,
    "start_time": "2025-01-22T17:30:43.248Z"
   },
   {
    "duration": 7,
    "start_time": "2025-01-22T17:31:04.154Z"
   },
   {
    "duration": 839,
    "start_time": "2025-01-22T17:31:42.735Z"
   },
   {
    "duration": 17,
    "start_time": "2025-01-22T17:31:43.576Z"
   },
   {
    "duration": 15,
    "start_time": "2025-01-22T17:31:43.595Z"
   },
   {
    "duration": 3,
    "start_time": "2025-01-22T17:31:43.612Z"
   },
   {
    "duration": 5,
    "start_time": "2025-01-22T17:31:43.632Z"
   },
   {
    "duration": 5,
    "start_time": "2025-01-22T17:31:43.639Z"
   },
   {
    "duration": 3,
    "start_time": "2025-01-22T17:31:43.646Z"
   },
   {
    "duration": 9,
    "start_time": "2025-01-22T17:31:43.651Z"
   },
   {
    "duration": 249,
    "start_time": "2025-01-22T17:31:43.662Z"
   },
   {
    "duration": 0,
    "start_time": "2025-01-22T17:31:43.913Z"
   },
   {
    "duration": 0,
    "start_time": "2025-01-22T17:31:43.914Z"
   },
   {
    "duration": 19,
    "start_time": "2025-01-22T17:35:07.586Z"
   },
   {
    "duration": 22,
    "start_time": "2025-01-22T17:35:39.987Z"
   },
   {
    "duration": 3,
    "start_time": "2025-01-22T17:36:07.759Z"
   },
   {
    "duration": 33,
    "start_time": "2025-01-22T17:36:15.067Z"
   },
   {
    "duration": 80,
    "start_time": "2025-01-22T17:37:27.464Z"
   },
   {
    "duration": 42,
    "start_time": "2025-01-22T17:37:41.516Z"
   },
   {
    "duration": 15,
    "start_time": "2025-01-22T17:39:35.148Z"
   },
   {
    "duration": 9,
    "start_time": "2025-01-22T17:39:51.771Z"
   },
   {
    "duration": 330,
    "start_time": "2025-01-22T17:39:57.481Z"
   },
   {
    "duration": 3,
    "start_time": "2025-01-22T17:41:32.262Z"
   },
   {
    "duration": 15,
    "start_time": "2025-01-22T17:41:37.771Z"
   },
   {
    "duration": 15,
    "start_time": "2025-01-22T17:45:41.789Z"
   },
   {
    "duration": 877,
    "start_time": "2025-02-04T15:20:28.403Z"
   },
   {
    "duration": 22,
    "start_time": "2025-02-04T15:20:29.282Z"
   },
   {
    "duration": 19,
    "start_time": "2025-02-04T15:20:29.306Z"
   },
   {
    "duration": 2,
    "start_time": "2025-02-04T15:20:29.327Z"
   },
   {
    "duration": 6,
    "start_time": "2025-02-04T15:20:29.332Z"
   },
   {
    "duration": 6,
    "start_time": "2025-02-04T15:20:29.339Z"
   },
   {
    "duration": 3,
    "start_time": "2025-02-04T15:20:29.347Z"
   },
   {
    "duration": 7,
    "start_time": "2025-02-04T15:20:29.351Z"
   },
   {
    "duration": 20,
    "start_time": "2025-02-04T15:20:29.361Z"
   },
   {
    "duration": 76,
    "start_time": "2025-02-04T15:20:29.383Z"
   },
   {
    "duration": 338,
    "start_time": "2025-02-04T15:20:29.461Z"
   },
   {
    "duration": 31,
    "start_time": "2025-02-04T15:20:29.801Z"
   },
   {
    "duration": 316,
    "start_time": "2025-02-04T15:20:29.834Z"
   },
   {
    "duration": 0,
    "start_time": "2025-02-04T15:20:30.152Z"
   },
   {
    "duration": 17,
    "start_time": "2025-02-04T15:21:54.336Z"
   },
   {
    "duration": 10,
    "start_time": "2025-02-04T15:31:21.559Z"
   },
   {
    "duration": 4,
    "start_time": "2025-02-04T15:31:49.935Z"
   },
   {
    "duration": 19,
    "start_time": "2025-02-04T15:38:13.424Z"
   },
   {
    "duration": 3,
    "start_time": "2025-02-04T15:39:11.911Z"
   },
   {
    "duration": 8,
    "start_time": "2025-02-04T15:39:17.977Z"
   },
   {
    "duration": 4,
    "start_time": "2025-02-04T17:03:17.395Z"
   },
   {
    "duration": 4,
    "start_time": "2025-02-04T17:06:15.517Z"
   },
   {
    "duration": 7,
    "start_time": "2025-02-04T17:08:24.390Z"
   },
   {
    "duration": 17,
    "start_time": "2025-02-04T17:11:50.853Z"
   },
   {
    "duration": 5,
    "start_time": "2025-02-04T17:11:57.384Z"
   },
   {
    "duration": 803,
    "start_time": "2025-02-04T17:12:13.161Z"
   },
   {
    "duration": 14,
    "start_time": "2025-02-04T17:12:13.966Z"
   },
   {
    "duration": 11,
    "start_time": "2025-02-04T17:12:13.982Z"
   },
   {
    "duration": 2,
    "start_time": "2025-02-04T17:12:13.995Z"
   },
   {
    "duration": 5,
    "start_time": "2025-02-04T17:12:13.998Z"
   },
   {
    "duration": 5,
    "start_time": "2025-02-04T17:12:14.023Z"
   },
   {
    "duration": 4,
    "start_time": "2025-02-04T17:12:14.030Z"
   },
   {
    "duration": 7,
    "start_time": "2025-02-04T17:12:14.035Z"
   },
   {
    "duration": 16,
    "start_time": "2025-02-04T17:12:14.043Z"
   },
   {
    "duration": 63,
    "start_time": "2025-02-04T17:12:14.062Z"
   },
   {
    "duration": 261,
    "start_time": "2025-02-04T17:12:14.127Z"
   },
   {
    "duration": 35,
    "start_time": "2025-02-04T17:12:14.390Z"
   },
   {
    "duration": 8,
    "start_time": "2025-02-04T17:12:14.426Z"
   },
   {
    "duration": 394,
    "start_time": "2025-02-04T17:12:14.437Z"
   },
   {
    "duration": 0,
    "start_time": "2025-02-04T17:12:14.833Z"
   },
   {
    "duration": 33,
    "start_time": "2025-02-04T17:13:43.857Z"
   },
   {
    "duration": 6,
    "start_time": "2025-02-04T17:13:51.578Z"
   },
   {
    "duration": 49,
    "start_time": "2025-02-04T17:14:26.825Z"
   },
   {
    "duration": 6,
    "start_time": "2025-02-04T17:21:51.305Z"
   },
   {
    "duration": 13,
    "start_time": "2025-02-04T17:27:00.399Z"
   },
   {
    "duration": 760,
    "start_time": "2025-02-04T18:24:04.771Z"
   },
   {
    "duration": 15,
    "start_time": "2025-02-04T18:24:05.533Z"
   },
   {
    "duration": 12,
    "start_time": "2025-02-04T18:24:05.550Z"
   },
   {
    "duration": 2,
    "start_time": "2025-02-04T18:24:05.563Z"
   },
   {
    "duration": 5,
    "start_time": "2025-02-04T18:24:05.568Z"
   },
   {
    "duration": 5,
    "start_time": "2025-02-04T18:24:05.575Z"
   },
   {
    "duration": 3,
    "start_time": "2025-02-04T18:24:05.581Z"
   },
   {
    "duration": 6,
    "start_time": "2025-02-04T18:24:05.586Z"
   },
   {
    "duration": 16,
    "start_time": "2025-02-04T18:24:05.625Z"
   },
   {
    "duration": 48,
    "start_time": "2025-02-04T18:24:05.642Z"
   },
   {
    "duration": 266,
    "start_time": "2025-02-04T18:24:05.691Z"
   },
   {
    "duration": 15,
    "start_time": "2025-02-04T18:24:05.958Z"
   },
   {
    "duration": 51,
    "start_time": "2025-02-04T18:24:05.975Z"
   },
   {
    "duration": 6,
    "start_time": "2025-02-04T18:24:06.028Z"
   },
   {
    "duration": 7,
    "start_time": "2025-02-04T18:24:06.038Z"
   },
   {
    "duration": 792,
    "start_time": "2025-02-10T18:54:04.061Z"
   },
   {
    "duration": 22,
    "start_time": "2025-02-10T18:54:04.855Z"
   },
   {
    "duration": 11,
    "start_time": "2025-02-10T18:54:04.878Z"
   },
   {
    "duration": 3,
    "start_time": "2025-02-10T18:54:04.891Z"
   },
   {
    "duration": 6,
    "start_time": "2025-02-10T18:54:04.896Z"
   },
   {
    "duration": 5,
    "start_time": "2025-02-10T18:54:04.904Z"
   },
   {
    "duration": 3,
    "start_time": "2025-02-10T18:54:04.911Z"
   },
   {
    "duration": 30,
    "start_time": "2025-02-10T18:54:04.916Z"
   },
   {
    "duration": 16,
    "start_time": "2025-02-10T18:54:04.948Z"
   },
   {
    "duration": 48,
    "start_time": "2025-02-10T18:54:04.966Z"
   },
   {
    "duration": 290,
    "start_time": "2025-02-10T18:54:05.016Z"
   },
   {
    "duration": 35,
    "start_time": "2025-02-10T18:54:05.307Z"
   },
   {
    "duration": 4,
    "start_time": "2025-02-10T18:54:05.344Z"
   },
   {
    "duration": 5,
    "start_time": "2025-02-10T18:54:05.351Z"
   },
   {
    "duration": 5,
    "start_time": "2025-02-10T18:54:05.358Z"
   }
  ],
  "kernelspec": {
   "display_name": "Python 3 (ipykernel)",
   "language": "python",
   "name": "python3"
  },
  "language_info": {
   "codemirror_mode": {
    "name": "ipython",
    "version": 3
   },
   "file_extension": ".py",
   "mimetype": "text/x-python",
   "name": "python",
   "nbconvert_exporter": "python",
   "pygments_lexer": "ipython3",
   "version": "3.9.19"
  },
  "toc": {
   "base_numbering": 1,
   "nav_menu": {},
   "number_sections": true,
   "sideBar": true,
   "skip_h1_title": true,
   "title_cell": "Table of Contents",
   "title_sidebar": "Contents",
   "toc_cell": false,
   "toc_position": {},
   "toc_section_display": true,
   "toc_window_display": false
  }
 },
 "nbformat": 4,
 "nbformat_minor": 2
}
